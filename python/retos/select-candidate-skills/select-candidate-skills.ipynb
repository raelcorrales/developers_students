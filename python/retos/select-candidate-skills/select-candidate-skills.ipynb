{
 "cells": [
  {
   "cell_type": "code",
   "execution_count": 1,
   "id": "70a76c0f",
   "metadata": {},
   "outputs": [],
   "source": [
    "from itertools import combinations\n",
    "\n",
    "def select_candidates_pythonic(required_skills: list, candidates: dict) -> list:\n",
    "    \"\"\"\n",
    "    Selecciona los candidatos que, combinados, cumplen con las habilidades requeridas.\n",
    "\n",
    "    :param required_skills: Lista de habilidades requeridas.\n",
    "    :param candidates: Diccionario donde las claves son los identificadores de los candidatos\n",
    "                       y los valores son listas de habilidades de cada candidato.\n",
    "    :return: Lista de identificadores de los candidatos que, combinados, cumplen con las habilidades requeridas,\n",
    "             o una lista vacía si no se encuentra ninguna combinación válida.\n",
    "    \"\"\"\n",
    "\n",
    "    # Paso 1: Convertimos la lista de habilidades requeridas a un conjunto (set) para facilitar comparaciones.\n",
    "    # Un conjunto es como una lista, pero no permite elementos repetidos. Esto nos ayuda a verificar\n",
    "    # rápidamente si las habilidades requeridas están contenidas en las habilidades combinadas.\n",
    "    required_skills_set = set(required_skills)\n",
    "    \n",
    "    # Paso 2: Obtenemos una lista con los identificadores de los candidatos (las claves del diccionario).\n",
    "    # Esto nos permitirá generar combinaciones de IDs de candidatos.\n",
    "    candidate_ids = list(candidates.keys())\n",
    "\n",
    "    # Paso 3: Iteramos sobre combinaciones de candidatos, empezando desde combinaciones de tamaño 1\n",
    "    # (un solo candidato) hasta el tamaño máximo (todos los candidatos).\n",
    "    for r in range(1, len(candidate_ids) + 1):  # r es el tamaño de la combinación\n",
    "        # Generamos todas las combinaciones posibles de r candidatos usando `itertools.combinations`.\n",
    "        # Por ejemplo, si r = 2 y los candidatos son ['1', '2', '3'], generamos:\n",
    "        # ('1', '2'), ('1', '3'), ('2', '3').\n",
    "        for combination in combinations(candidate_ids, r):\n",
    "            # Paso 4: Creamos un conjunto para guardar las habilidades combinadas de los candidatos\n",
    "            # en esta combinación.\n",
    "            combined_skills = set()\n",
    "\n",
    "            # Paso 5: Para cada candidato en la combinación actual, añadimos sus habilidades\n",
    "            # al conjunto de habilidades combinadas.\n",
    "            for candidate_id in combination:\n",
    "                combined_skills.update(candidates[candidate_id])\n",
    "            \n",
    "            # Paso 6: Verificamos si las habilidades combinadas incluyen TODAS las habilidades requeridas.\n",
    "            # Usamos el método `issubset`, que devuelve True si el conjunto de habilidades requeridas\n",
    "            # está contenido en el conjunto de habilidades combinadas.\n",
    "            if required_skills_set.issubset(combined_skills):\n",
    "                # Paso 6.1: Si encontramos una combinación válida, devolvemos la lista de IDs de los candidatos.\n",
    "                return list(combination)\n",
    "\n",
    "    # Paso 7: Si no encontramos ninguna combinación que cumpla con las habilidades requeridas,\n",
    "    # devolvemos una lista vacía.\n",
    "    return []"
   ]
  },
  {
   "cell_type": "code",
   "execution_count": 2,
   "id": "d3532d4f",
   "metadata": {},
   "outputs": [],
   "source": [
    "def select_candidates(required_skills: list, candidates: dict) -> list:\n",
    "    \"\"\"\n",
    "    Selecciona los candidatos que, combinados, cumplen con las habilidades requeridas.\n",
    "\n",
    "    :param required_skills: Lista de habilidades requeridas.\n",
    "    :param candidates: Diccionario donde las claves son los identificadores de los candidatos\n",
    "                       y los valores son listas de habilidades de cada candidato.\n",
    "    :return: Lista de identificadores de los candidatos que, combinados, cumplen con\n",
    "             las habilidades requeridas, o una lista vacía si no hay solución.\n",
    "    \"\"\"\n",
    "\n",
    "    # Paso 1: Convertimos las habilidades requeridas a un conjunto para facilitar comparaciones.\n",
    "    # Un conjunto nos permite realizar operaciones rápidas como verificar si contiene ciertos elementos.\n",
    "    required_skills_set = set(required_skills)\n",
    "    \n",
    "    # Paso 2: Obtenemos una lista de los identificadores de los candidatos.\n",
    "    # Esto nos permitirá trabajar con combinaciones de IDs.\n",
    "    candidate_ids = list(candidates.keys())\n",
    "\n",
    "    # Paso 3: Generamos combinaciones de candidatos de diferentes tamaños (desde 1 hasta el total de candidatos).\n",
    "    n = len(candidate_ids)  # Número total de candidatos.\n",
    "    for r in range(1, n + 1):  # r representa el tamaño de la combinación.\n",
    "\n",
    "        # Inicializamos índices para generar combinaciones de tamaño r.\n",
    "        indices = list(range(r))  # Por ejemplo, si r=2, los índices iniciales serán [0, 1].\n",
    "\n",
    "        # Usamos un bucle para probar todas las combinaciones posibles de tamaño r.\n",
    "        while True:\n",
    "            # Paso 4: Creamos una combinación actual a partir de los índices.\n",
    "            # Por ejemplo, si los índices son [0, 1], la combinación será ['1', '2'].\n",
    "            combination = [candidate_ids[i] for i in indices]\n",
    "\n",
    "            # Paso 5: Unimos las habilidades de los candidatos en la combinación actual.\n",
    "            combined_skills = set()  # Creamos un conjunto para almacenar las habilidades combinadas.\n",
    "            for candidate_id in combination:\n",
    "                combined_skills.update(candidates[candidate_id])  # Agregamos las habilidades del candidato actual.\n",
    "\n",
    "            # Paso 6: Verificamos si las habilidades combinadas cumplen con las requeridas.\n",
    "            if required_skills_set.issubset(combined_skills):\n",
    "                # Si las habilidades combinadas incluyen todas las requeridas, devolvemos esta combinación.\n",
    "                return combination\n",
    "\n",
    "            # Paso 7: Actualizamos los índices para generar la siguiente combinación.\n",
    "            # Este bloque asegura que exploramos todas las combinaciones posibles de tamaño r.\n",
    "            for i in reversed(range(r)):  # Iteramos desde el último índice hacia el primero.\n",
    "                if indices[i] < n - r + i:  # Verificamos si el índice actual puede ser incrementado.\n",
    "                    indices[i] += 1  # Incrementamos el índice actual.\n",
    "                    for j in range(i + 1, r):  # Actualizamos los índices siguientes en orden.\n",
    "                        indices[j] = indices[j - 1] + 1\n",
    "                    break\n",
    "            else:\n",
    "                # Si no podemos incrementar más los índices, salimos del bucle.\n",
    "                break\n",
    "\n",
    "    # Paso 8: Si no encontramos ninguna combinación válida, devolvemos una lista vacía.\n",
    "    return []"
   ]
  },
  {
   "cell_type": "code",
   "execution_count": null,
   "id": "8ae82cb4",
   "metadata": {},
   "outputs": [
    {
     "name": "stdout",
     "output_type": "stream",
     "text": [
      "['2', '3']\n"
     ]
    }
   ],
   "source": [
    "print(select_candidates(['A', 'B', 'C', 'D', 'E', 'F'], {\n",
    "    '1': ['A', 'B', 'C', 'D'],\n",
    "    '2': ['A', 'B', 'E'],\n",
    "    '3': ['C', 'D', 'F'],\n",
    "    '4': ['E'],\n",
    "    '5': ['F'],\n",
    "    '6': ['X', 'Y', 'Z']\n",
    "}))"
   ]
  },
  {
   "cell_type": "code",
   "execution_count": null,
   "id": "57c4469c",
   "metadata": {},
   "outputs": [
    {
     "name": "stdout",
     "output_type": "stream",
     "text": [
      "['2', '3']\n"
     ]
    }
   ],
   "source": [
    "print(select_candidates_pythonic(['A', 'B', 'C', 'D', 'E', 'F'], {\n",
    "    '1': ['A', 'B', 'C', 'D'],\n",
    "    '2': ['A', 'B', 'E'],\n",
    "    '3': ['C', 'D', 'F'],\n",
    "    '4': ['E'],\n",
    "    '5': ['F'],\n",
    "    '6': ['X', 'Y', 'Z']\n",
    "}))"
   ]
  }
 ],
 "metadata": {
  "kernelspec": {
   "display_name": "Python 3",
   "language": "python",
   "name": "python3"
  },
  "language_info": {
   "codemirror_mode": {
    "name": "ipython",
    "version": 3
   },
   "file_extension": ".py",
   "mimetype": "text/x-python",
   "name": "python",
   "nbconvert_exporter": "python",
   "pygments_lexer": "ipython3",
   "version": "3.12.3"
  }
 },
 "nbformat": 4,
 "nbformat_minor": 5
}
