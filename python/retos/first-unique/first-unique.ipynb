{
 "cells": [
  {
   "cell_type": "code",
   "execution_count": 34,
   "id": "e3111130",
   "metadata": {},
   "outputs": [],
   "source": [
    "from collections import Counter  # Importamos Counter, una herramienta para contar elementos en una lista\n",
    "\n",
    "def solution_pythonic(list_number: list) -> int:\n",
    "    \"\"\"\n",
    "    Dada una lista list_number de N enteros, encuentra el primer entero único en ella.\n",
    "    :param list_number: Lista de enteros\n",
    "    :return: El primer entero único en la lista o -1 si no hay ninguno.\n",
    "    \"\"\"\n",
    "\n",
    "    # Paso 1: Verificamos si la lista está vacía.\n",
    "    # Si la lista no tiene elementos, devolvemos -1, ya que no hay números para analizar.\n",
    "    if not list_number:\n",
    "        return -1\n",
    "\n",
    "    # Paso 2: Usamos Counter para contar cuántas veces aparece cada número en la lista.\n",
    "    # Esto crea un diccionario donde la clave es el número y el valor es su frecuencia.\n",
    "    unique_number = Counter(list_number)\n",
    "    \n",
    "    # Paso 3: Recorremos la lista original en el mismo orden.\n",
    "    # Esto asegura que encontramos el primer número único (frecuencia igual a 1).\n",
    "    for number in list_number:\n",
    "        if unique_number[number] == 1:  # Verificamos si la frecuencia del número actual es igual a 1.\n",
    "            return number  # Devolvemos el número porque es el primer número único que encontramos.\n",
    "    \n",
    "    # Paso 4: Si terminamos de recorrer la lista y no hay ningún número con frecuencia 1,\n",
    "    # significa que no hay números únicos. En ese caso, devolvemos -1.\n",
    "    return -1"
   ]
  },
  {
   "cell_type": "code",
   "execution_count": 39,
   "id": "83cde827",
   "metadata": {},
   "outputs": [],
   "source": [
    "def solution(list_number: list) -> int:\n",
    "    \"\"\"\n",
    "    Dada una lista `list_number` de N enteros, encuentra el primer entero único en ella.\n",
    "    Un número único es aquel que aparece exactamente una vez en la lista.\n",
    "    \n",
    "    :param list_number: Lista de enteros.\n",
    "    :return: El primer entero único en la lista o -1 si no hay ninguno.\n",
    "    \"\"\"\n",
    "\n",
    "    # Paso 1: Verificamos si la lista está vacía.\n",
    "    # Si la lista no tiene elementos, devolvemos -1, ya que no hay números para analizar.\n",
    "    if not list_number:\n",
    "        return -1\n",
    "\n",
    "    # Paso 2: Creamos un diccionario llamado `unique_number` para contar las ocurrencias de cada número.\n",
    "    # La clave del diccionario será el número y el valor será la cantidad de veces que aparece en la lista.\n",
    "    unique_number = {}\n",
    "\n",
    "    # Recorremos cada número en la lista.\n",
    "    for num in list_number:\n",
    "        # Usamos el método `get` para obtener el valor actual del número en el diccionario.\n",
    "        # Si el número no está en el diccionario, devolvemos 0 como valor predeterminado.\n",
    "        # Luego, sumamos 1 para incrementar su cuenta.\n",
    "        unique_number[num] = unique_number.get(num, 0) + 1\n",
    "\n",
    "    # Paso 3: Recorremos la lista original nuevamente para preservar el orden de aparición.\n",
    "    # Buscamos el primer número cuya ocurrencia sea exactamente 1.\n",
    "    for num in list_number:\n",
    "        # Verificamos si el número aparece solo una vez.\n",
    "        if unique_number[num] == 1:\n",
    "            # Si encontramos un número único, lo devolvemos inmediatamente.\n",
    "            return num\n",
    "\n",
    "    # Paso 4: Si terminamos de recorrer toda la lista y no encontramos ningún número único,\n",
    "    # devolvemos -1 para indicar que no hay números únicos.\n",
    "    return -1"
   ]
  },
  {
   "cell_type": "code",
   "execution_count": 41,
   "id": "87192498",
   "metadata": {},
   "outputs": [
    {
     "name": "stdout",
     "output_type": "stream",
     "text": [
      "3\n",
      "2\n",
      "-1\n",
      "-1\n",
      "7\n",
      "9\n",
      "10\n",
      "4\n"
     ]
    }
   ],
   "source": [
    "# Pruebas para la función solution\n",
    "print(solution([1, 1, 2, 2, 3, 4, 5]))  # Caso base: Debe devolver 3\n",
    "print(solution([1, 1, 2, 3, 3, 4]))     # Caso base: Debe devolver 2\n",
    "print(solution([1, 1, 2, 2, 3, 3]))     # Caso sin únicos: Debe devolver -1\n",
    "print(solution([]))                      # Caso lista vacía: Debe devolver -1\n",
    "print(solution([7]))                     # Caso un solo elemento: Debe devolver 7\n",
    "print(solution([8, 8, -1, -1, 9]))       # Caso con números negativos: Debe devolver 9\n",
    "print(solution([10, 20, 30]))            # Caso todos únicos: Debe devolver 10\n",
    "print(solution([1, 2, 2, 1, 3, 4, 3]))   # Caso único al final: Debe devolver 4"
   ]
  },
  {
   "cell_type": "code",
   "execution_count": 42,
   "id": "f3b077df",
   "metadata": {},
   "outputs": [
    {
     "name": "stdout",
     "output_type": "stream",
     "text": [
      "3\n",
      "2\n",
      "-1\n",
      "-1\n",
      "7\n",
      "9\n",
      "10\n",
      "4\n"
     ]
    }
   ],
   "source": [
    "# Pruebas para la función solution_pythonic\n",
    "print(solution_pythonic([1, 1, 2, 2, 3, 4, 5]))  # Caso base: Debe devolver 3\n",
    "print(solution_pythonic([1, 1, 2, 3, 3, 4]))     # Caso base: Debe devolver 2\n",
    "print(solution_pythonic([1, 1, 2, 2, 3, 3]))     # Caso sin únicos: Debe devolver -1\n",
    "print(solution_pythonic([]))                      # Caso lista vacía: Debe devolver -1\n",
    "print(solution_pythonic([7]))                     # Caso un solo elemento: Debe devolver 7\n",
    "print(solution_pythonic([8, 8, -1, -1, 9]))       # Caso con números negativos: Debe devolver 9\n",
    "print(solution_pythonic([10, 20, 30]))            # Caso todos únicos: Debe devolver 10\n",
    "print(solution_pythonic([1, 2, 2, 1, 3, 4, 3]))   # Caso único al final: Debe devolver 4"
   ]
  }
 ],
 "metadata": {
  "kernelspec": {
   "display_name": "Python 3",
   "language": "python",
   "name": "python3"
  },
  "language_info": {
   "codemirror_mode": {
    "name": "ipython",
    "version": 3
   },
   "file_extension": ".py",
   "mimetype": "text/x-python",
   "name": "python",
   "nbconvert_exporter": "python",
   "pygments_lexer": "ipython3",
   "version": "3.12.3"
  }
 },
 "nbformat": 4,
 "nbformat_minor": 5
}
