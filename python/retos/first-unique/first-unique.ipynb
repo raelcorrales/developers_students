{
 "cells": [
  {
   "cell_type": "code",
   "execution_count": 1,
   "id": "5103a736",
   "metadata": {},
   "outputs": [],
   "source": [
    "import timeit # Agregamos timeit para mostrar como es que cada funcion tarda al procesar."
   ]
  },
  {
   "cell_type": "code",
   "execution_count": 2,
   "id": "e3111130",
   "metadata": {},
   "outputs": [],
   "source": [
    "from collections import Counter  # Importamos Counter, una herramienta para contar elementos en una lista\n",
    "\n",
    "def solution_pythonic(list_numbers: list) -> int:\n",
    "    \"\"\"\n",
    "    Dada una lista list_numbers de N enteros, encuentra el primer entero único en ella.\n",
    "    :param list_numbers: Lista de enteros\n",
    "    :return: El primer entero único en la lista o -1 si no hay ninguno.\n",
    "    \"\"\"\n",
    "\n",
    "    # Paso 1: Verificamos si la lista está vacía.\n",
    "    # Si la lista no tiene elementos, devolvemos -1, ya que no hay números para analizar.\n",
    "    if not list_numbers:\n",
    "        return -1\n",
    "\n",
    "    # Paso 2: Usamos Counter para contar cuántas veces aparece cada número en la lista.\n",
    "    # Esto crea un diccionario donde la clave es el número y el valor es su frecuencia.\n",
    "    unique_numbers = Counter(list_numbers)\n",
    "    \n",
    "    # Paso 3: Recorremos la lista original en el mismo orden.\n",
    "    # Esto asegura que encontramos el primer número único (frecuencia igual a 1).\n",
    "    for number in list_numbers:\n",
    "        if unique_numbers[number] == 1:  # Verificamos si la frecuencia del número actual es igual a 1.\n",
    "            return number  # Devolvemos el número porque es el primer número único que encontramos.\n",
    "    \n",
    "    # Paso 4: Si terminamos de recorrer la lista y no hay ningún número con frecuencia 1,\n",
    "    # significa que no hay números únicos. En ese caso, devolvemos -1.\n",
    "    return -1"
   ]
  },
  {
   "cell_type": "code",
   "execution_count": 3,
   "id": "83cde827",
   "metadata": {},
   "outputs": [],
   "source": [
    "def solution(list_numbers: list) -> int:\n",
    "    \"\"\"\n",
    "    Dada una lista `list_numbers` de N enteros, encuentra el primer entero único en ella.\n",
    "    Un número único es aquel que aparece exactamente una vez en la lista.\n",
    "    \n",
    "    :param list_numbers: Lista de enteros.\n",
    "    :return: El primer entero único en la lista o -1 si no hay ninguno.\n",
    "    \"\"\"\n",
    "\n",
    "    # Paso 1: Verificamos si la lista está vacía.\n",
    "    # Si la lista no tiene elementos, devolvemos -1, ya que no hay números para analizar.\n",
    "    if not list_numbers:\n",
    "        return -1\n",
    "\n",
    "    # Paso 2: Creamos un diccionario llamado `unique_numbers` para contar las ocurrencias de cada número.\n",
    "    # La clave del diccionario será el número y el valor será la cantidad de veces que aparece en la lista.\n",
    "    unique_numbers = {}\n",
    "\n",
    "    # Recorremos cada número en la lista.\n",
    "    for num in list_numbers:\n",
    "        # Usamos el método `get` para obtener el valor actual del número en el diccionario.\n",
    "        # Si el número no está en el diccionario, devolvemos 0 como valor predeterminado.\n",
    "        # Luego, sumamos 1 para incrementar su cuenta.\n",
    "        unique_numbers[num] = unique_numbers.get(num, 0) + 1\n",
    "\n",
    "    # Paso 3: Recorremos la lista original nuevamente para preservar el orden de aparición.\n",
    "    # Buscamos el primer número cuya ocurrencia sea exactamente 1.\n",
    "    for num in list_numbers:\n",
    "        # Verificamos si el número aparece solo una vez.\n",
    "        if unique_numbers[num] == 1:\n",
    "            # Si encontramos un número único, lo devolvemos inmediatamente.\n",
    "            return num\n",
    "\n",
    "    # Paso 4: Si terminamos de recorrer toda la lista y no encontramos ningún número único,\n",
    "    # devolvemos -1 para indicar que no hay números únicos.\n",
    "    return -1"
   ]
  },
  {
   "cell_type": "code",
   "execution_count": 4,
   "id": "04e638b6",
   "metadata": {},
   "outputs": [
    {
     "name": "stdout",
     "output_type": "stream",
     "text": [
      "Resultado: 3\n",
      "Tiempo de ejecución (10000 ejecuciones): 0.011856799996166956 segundos\n"
     ]
    }
   ],
   "source": [
    "execution_time = timeit.timeit(lambda: solution([1, 1, 2, 2, 3, 4, 5]), number=10000)\n",
    "print(\"Resultado:\", solution([1, 1, 2, 2, 3, 4, 5]))\n",
    "print(\"Tiempo de ejecución (10000 ejecuciones):\", execution_time, \"segundos\")"
   ]
  },
  {
   "cell_type": "code",
   "execution_count": 5,
   "id": "f0e1f552",
   "metadata": {},
   "outputs": [
    {
     "name": "stdout",
     "output_type": "stream",
     "text": [
      "Resultado: 2\n",
      "Tiempo de ejecución (10000 ejecuciones): 0.009584999999788124 segundos\n"
     ]
    }
   ],
   "source": [
    "execution_time = timeit.timeit(lambda: solution([1, 1, 2, 3, 3, 4]), number=10000)\n",
    "print(\"Resultado:\", solution([1, 1, 2, 3, 3, 4]))\n",
    "print(\"Tiempo de ejecución (10000 ejecuciones):\", execution_time, \"segundos\")"
   ]
  },
  {
   "cell_type": "code",
   "execution_count": 6,
   "id": "9c2ec9f1",
   "metadata": {},
   "outputs": [
    {
     "name": "stdout",
     "output_type": "stream",
     "text": [
      "Resultado: -1\n",
      "Tiempo de ejecución (10000 ejecuciones): 0.0011021999962395057 segundos\n"
     ]
    }
   ],
   "source": [
    "execution_time = timeit.timeit(lambda: solution([]), number=10000)\n",
    "print(\"Resultado:\", solution([]))\n",
    "print(\"Tiempo de ejecución (10000 ejecuciones):\", execution_time, \"segundos\")"
   ]
  },
  {
   "cell_type": "code",
   "execution_count": 7,
   "id": "90ff99bb",
   "metadata": {},
   "outputs": [
    {
     "name": "stdout",
     "output_type": "stream",
     "text": [
      "Resultado: 10\n",
      "Tiempo de ejecución (10000 ejecuciones): 0.005846899999596644 segundos\n"
     ]
    }
   ],
   "source": [
    "execution_time = timeit.timeit(lambda: solution([10, 20, 30]), number=10000)\n",
    "print(\"Resultado:\", solution([10, 20, 30]))\n",
    "print(\"Tiempo de ejecución (10000 ejecuciones):\", execution_time, \"segundos\")"
   ]
  },
  {
   "cell_type": "code",
   "execution_count": 8,
   "id": "be2280d8",
   "metadata": {},
   "outputs": [
    {
     "name": "stdout",
     "output_type": "stream",
     "text": [
      "Resultado: 4\n",
      "Tiempo de ejecución (10000 ejecuciones): 0.012064599999575876 segundos\n"
     ]
    }
   ],
   "source": [
    "execution_time = timeit.timeit(lambda: solution([1, 2, 2, 1, 3, 4, 3]), number=10000)\n",
    "print(\"Resultado:\", solution([1, 2, 2, 1, 3, 4, 3]))\n",
    "print(\"Tiempo de ejecución (10000 ejecuciones):\", execution_time, \"segundos\")"
   ]
  },
  {
   "cell_type": "code",
   "execution_count": 9,
   "id": "9ca74cfe",
   "metadata": {},
   "outputs": [
    {
     "name": "stdout",
     "output_type": "stream",
     "text": [
      "Resultado: 3\n",
      "Tiempo de ejecución (10000 ejecuciones): 0.022864999999001157 segundos\n"
     ]
    }
   ],
   "source": [
    "execution_time = timeit.timeit(lambda: solution_pythonic([1, 1, 2, 2, 3, 4, 5]), number=10000)\n",
    "print(\"Resultado:\", solution_pythonic([1, 1, 2, 2, 3, 4, 5]))\n",
    "print(\"Tiempo de ejecución (10000 ejecuciones):\", execution_time, \"segundos\")"
   ]
  },
  {
   "cell_type": "code",
   "execution_count": 10,
   "id": "0ceca919",
   "metadata": {},
   "outputs": [
    {
     "name": "stdout",
     "output_type": "stream",
     "text": [
      "Resultado: 2\n",
      "Tiempo de ejecución (10000 ejecuciones): 0.018394299993815366 segundos\n"
     ]
    }
   ],
   "source": [
    "execution_time = timeit.timeit(lambda: solution_pythonic([1, 1, 2, 3, 3, 4]), number=10000)\n",
    "print(\"Resultado:\", solution_pythonic([1, 1, 2, 3, 3, 4]))\n",
    "print(\"Tiempo de ejecución (10000 ejecuciones):\", execution_time, \"segundos\")"
   ]
  },
  {
   "cell_type": "code",
   "execution_count": 11,
   "id": "b1a1b522",
   "metadata": {},
   "outputs": [
    {
     "name": "stdout",
     "output_type": "stream",
     "text": [
      "Resultado: -1\n",
      "Tiempo de ejecución (10000 ejecuciones): 0.0011092999993707053 segundos\n"
     ]
    }
   ],
   "source": [
    "execution_time = timeit.timeit(lambda: solution_pythonic([]), number=10000)\n",
    "print(\"Resultado:\", solution_pythonic([]))\n",
    "print(\"Tiempo de ejecución (10000 ejecuciones):\", execution_time, \"segundos\")"
   ]
  },
  {
   "cell_type": "code",
   "execution_count": 12,
   "id": "99f86978",
   "metadata": {},
   "outputs": [
    {
     "name": "stdout",
     "output_type": "stream",
     "text": [
      "Resultado: 10\n",
      "Tiempo de ejecución (10000 ejecuciones): 0.015292299998691306 segundos\n"
     ]
    }
   ],
   "source": [
    "execution_time = timeit.timeit(lambda: solution_pythonic([10, 20, 30]), number=10000)\n",
    "print(\"Resultado:\", solution_pythonic([10, 20, 30]))\n",
    "print(\"Tiempo de ejecución (10000 ejecuciones):\", execution_time, \"segundos\")"
   ]
  },
  {
   "cell_type": "code",
   "execution_count": 13,
   "id": "c92f139a",
   "metadata": {},
   "outputs": [
    {
     "name": "stdout",
     "output_type": "stream",
     "text": [
      "Resultado: 4\n",
      "Tiempo de ejecución (10000 ejecuciones): 0.022491099996841513 segundos\n"
     ]
    }
   ],
   "source": [
    "execution_time = timeit.timeit(lambda: solution_pythonic([1, 2, 2, 1, 3, 4, 3]), number=10000)\n",
    "print(\"Resultado:\", solution_pythonic([1, 2, 2, 1, 3, 4, 3]))\n",
    "print(\"Tiempo de ejecución (10000 ejecuciones):\", execution_time, \"segundos\")"
   ]
  }
 ],
 "metadata": {
  "kernelspec": {
   "display_name": "Python 3",
   "language": "python",
   "name": "python3"
  },
  "language_info": {
   "codemirror_mode": {
    "name": "ipython",
    "version": 3
   },
   "file_extension": ".py",
   "mimetype": "text/x-python",
   "name": "python",
   "nbconvert_exporter": "python",
   "pygments_lexer": "ipython3",
   "version": "3.12.3"
  }
 },
 "nbformat": 4,
 "nbformat_minor": 5
}
