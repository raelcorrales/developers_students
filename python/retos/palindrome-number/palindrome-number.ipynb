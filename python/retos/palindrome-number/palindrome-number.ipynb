{
 "cells": [
  {
   "cell_type": "code",
   "execution_count": null,
   "id": "1bdf9078",
   "metadata": {},
   "outputs": [],
   "source": [
    "import timeit # Agregamos timeit para mostrar como es que cada funcion tarda al procesar."
   ]
  },
  {
   "cell_type": "code",
   "execution_count": 2,
   "id": "8c6ccc85",
   "metadata": {},
   "outputs": [],
   "source": [
    "import re  # Importamos el módulo 're' para trabajar con expresiones regulares."
   ]
  },
  {
   "cell_type": "code",
   "execution_count": 3,
   "id": "30f11637",
   "metadata": {},
   "outputs": [],
   "source": [
    "def solution(s: str) -> bool:\n",
    "    \"\"\"\n",
    "    Verifica si una cadena de texto es un palíndromo.\n",
    "    Un palíndromo es una palabra, frase o secuencia que se lee igual de izquierda a derecha\n",
    "    que de derecha a izquierda, ignorando espacios, símbolos y diferencias entre mayúsculas\n",
    "    y minúsculas.\n",
    "\n",
    "    :param s: Cadena de texto a evaluar.\n",
    "    :return: True si la cadena es un palíndromo, False en caso contrario.\n",
    "    \"\"\"\n",
    "    \n",
    "    # Paso 1: Eliminamos los caracteres que no sean letras o números.\n",
    "    # Usamos una expresión regular para conservar únicamente caracteres alfanuméricos.\n",
    "    # Por ejemplo, \"A man, a plan, a canal: Panama\" se convierte en \"AmanaplanacanalPanama\".\n",
    "    s = re.sub(r'[^a-zA-Z0-9]', '', s)\n",
    "    \n",
    "    # Paso 2: Convertimos la cadena a minúsculas.\n",
    "    # Esto asegura que las comparaciones no sean sensibles a diferencias entre mayúsculas\n",
    "    # y minúsculas. Por ejemplo, \"AmanaplanacanalPanama\" se convierte en \"amanaplanacanalpanama\".\n",
    "    s = s.lower()\n",
    "\n",
    "    # Paso 3: Recorremos hasta la mitad de la cadena para realizar las comparaciones.\n",
    "    # Solo necesitamos comparar la primera mitad de la cadena con la segunda mitad invertida.\n",
    "    for i in range(len(s) // 2):\n",
    "        # Obtenemos el índice de la letra correspondiente en la parte izquierda.\n",
    "        left = i\n",
    "        \n",
    "        # Obtenemos el índice de la letra correspondiente en la parte derecha.\n",
    "        # Usamos índices negativos para recorrer desde el final hacia el principio.\n",
    "        right = (i + 1) * -1\n",
    "        \n",
    "        # Paso 4: Comparamos los caracteres de la izquierda y la derecha.\n",
    "        # Si encontramos un par que no coincide, devolvemos False porque no es un palíndromo.\n",
    "        if s[left] != s[right]:\n",
    "            return False\n",
    "\n",
    "    # Paso 5: Si todas las comparaciones son exitosas, devolvemos True.\n",
    "    # Esto significa que la cadena es un palíndromo.\n",
    "    return True"
   ]
  },
  {
   "cell_type": "code",
   "execution_count": 4,
   "id": "f3b9b864",
   "metadata": {},
   "outputs": [],
   "source": [
    "import re  # Importamos el módulo 're' para trabajar con expresiones regulares.\n",
    "\n",
    "def solution_pythonic(s: str) -> bool:\n",
    "    \"\"\"\n",
    "    Verifica si una cadena de texto es un palíndromo utilizando una solución compacta y expresiva.\n",
    "    Un palíndromo es una palabra, frase o secuencia que se lee igual de izquierda a derecha\n",
    "    que de derecha a izquierda, ignorando espacios, símbolos y diferencias entre mayúsculas\n",
    "    y minúsculas.\n",
    "\n",
    "    :param s: Cadena de texto a evaluar.\n",
    "    :return: True si la cadena es un palíndromo, False en caso contrario.\n",
    "    \"\"\"\n",
    "\n",
    "    # Paso 1: Limpiamos la cadena de texto eliminando todos los caracteres no alfanuméricos.\n",
    "    # Usamos una expresión regular para conservar únicamente letras y números.\n",
    "    # El operador ':=' (walrus operator) asigna el resultado de re.sub a la variable 'cleaned'.\n",
    "    cleaned = re.sub(r'\\W+', '', s).lower()\n",
    "\n",
    "    # Paso 2: Comparamos la cadena limpia con su representación inversa.\n",
    "    # cleaned[::-1] invierte la cadena. Si cleaned es igual a su inverso, entonces es un palíndromo.\n",
    "    return cleaned == cleaned[::-1]"
   ]
  },
  {
   "cell_type": "code",
   "execution_count": 5,
   "id": "ced792eb",
   "metadata": {},
   "outputs": [],
   "source": [
    "import re  # Importamos el módulo 're' para trabajar con expresiones regulares.\n",
    "\n",
    "def solution_pythonic_2(s: str) -> bool:\n",
    "    \"\"\"\n",
    "    Verifica si una cadena de texto es un palíndromo.\n",
    "    Un palíndromo es una palabra, frase o secuencia que se lee igual de izquierda a derecha\n",
    "    que de derecha a izquierda, ignorando espacios, símbolos y diferencias entre mayúsculas\n",
    "    y minúsculas.\n",
    "\n",
    "    :param s: Cadena de texto a evaluar.\n",
    "    :return: True si la cadena es un palíndromo, False en caso contrario.\n",
    "    \"\"\"\n",
    "    \n",
    "    # Paso 1: Limpiamos la cadena de texto eliminando todos los caracteres que no sean alfanuméricos.\n",
    "    # Usamos una expresión regular para conservar únicamente letras (a-z, A-Z) y números (0-9).\n",
    "    # También convertimos la cadena a minúsculas para que las comparaciones no sean sensibles\n",
    "    # a diferencias entre mayúsculas y minúsculas.\n",
    "    s = re.sub('[^a-zA-Z0-9]', '', s).lower()\n",
    "\n",
    "    # Paso 2: Comparamos la cadena limpia con su representación inversa.\n",
    "    # s[::-1] invierte la cadena. Si s es igual a su inverso, entonces es un palíndromo.\n",
    "    return s == s[::-1]"
   ]
  },
  {
   "cell_type": "code",
   "execution_count": 7,
   "id": "6a279e37",
   "metadata": {},
   "outputs": [
    {
     "name": "stdout",
     "output_type": "stream",
     "text": [
      "Resultado: True\n",
      "Tiempo de ejecución (10000 ejecuciones): 0.043895499999052845 segundos\n"
     ]
    }
   ],
   "source": [
    "execution_time = timeit.timeit(lambda: solution(\"A man, a plan, a canal: Panama\"), number=10000)\n",
    "print(\"Resultado:\", solution(\"A man, a plan, a canal: Panama\"))\n",
    "print(\"Tiempo de ejecución (10000 ejecuciones):\", execution_time, \"segundos\")"
   ]
  },
  {
   "cell_type": "code",
   "execution_count": 8,
   "id": "51c99dcc",
   "metadata": {},
   "outputs": [
    {
     "name": "stdout",
     "output_type": "stream",
     "text": [
      "Resultado: True\n",
      "Tiempo de ejecución (10000 ejecuciones): 0.030524400004651397 segundos\n"
     ]
    }
   ],
   "source": [
    "execution_time = timeit.timeit(lambda: solution_pythonic(\"A man, a plan, a canal: Panama\"), number=10000)\n",
    "print(\"Resultado:\", solution_pythonic(\"A man, a plan, a canal: Panama\"))\n",
    "print(\"Tiempo de ejecución (10000 ejecuciones):\", execution_time, \"segundos\")\n",
    "\n",
    "# 0.03002820000256179"
   ]
  },
  {
   "cell_type": "code",
   "execution_count": 9,
   "id": "dff553da",
   "metadata": {},
   "outputs": [
    {
     "name": "stdout",
     "output_type": "stream",
     "text": [
      "Resultado: True\n",
      "Tiempo de ejecución (10000 ejecuciones): 0.029177500000514556 segundos\n"
     ]
    }
   ],
   "source": [
    "execution_time = timeit.timeit(lambda: solution_pythonic_2(\"A man, a plan, a canal: Panama\"), number=10000)\n",
    "print(\"Resultado:\", solution_pythonic_2(\"A man, a plan, a canal: Panama\"))\n",
    "print(\"Tiempo de ejecución (10000 ejecuciones):\", execution_time, \"segundos\")\n"
   ]
  },
  {
   "cell_type": "code",
   "execution_count": 10,
   "id": "a112e683",
   "metadata": {},
   "outputs": [
    {
     "name": "stdout",
     "output_type": "stream",
     "text": [
      "Resultado: False\n",
      "Tiempo de ejecución (10000 ejecuciones): 0.036178900001687 segundos\n"
     ]
    }
   ],
   "source": [
    "execution_time = timeit.timeit(lambda: solution(\"race a car\"), number=10000)\n",
    "print(\"Resultado:\", solution(\"race a car\"))\n",
    "print(\"Tiempo de ejecución (10000 ejecuciones):\", execution_time, \"segundos\")"
   ]
  },
  {
   "cell_type": "code",
   "execution_count": 11,
   "id": "19a4240f",
   "metadata": {},
   "outputs": [
    {
     "name": "stdout",
     "output_type": "stream",
     "text": [
      "Resultado: False\n",
      "Tiempo de ejecución (10000 ejecuciones): 0.02658320000045933 segundos\n"
     ]
    }
   ],
   "source": [
    "execution_time = timeit.timeit(lambda: solution_pythonic(\"race a car\"), number=10000)\n",
    "print(\"Resultado:\", solution_pythonic(\"race a car\"))\n",
    "print(\"Tiempo de ejecución (10000 ejecuciones):\", execution_time, \"segundos\")"
   ]
  },
  {
   "cell_type": "code",
   "execution_count": 12,
   "id": "dd816723",
   "metadata": {},
   "outputs": [
    {
     "name": "stdout",
     "output_type": "stream",
     "text": [
      "Resultado: False\n",
      "Tiempo de ejecución (10000 ejecuciones): 0.016664099995978177 segundos\n"
     ]
    }
   ],
   "source": [
    "execution_time = timeit.timeit(lambda: solution_pythonic_2(\"race a car\"), number=10000)\n",
    "print(\"Resultado:\", solution_pythonic_2(\"race a car\"))\n",
    "print(\"Tiempo de ejecución (10000 ejecuciones):\", execution_time, \"segundos\")"
   ]
  },
  {
   "cell_type": "code",
   "execution_count": 13,
   "id": "dce17fc9",
   "metadata": {},
   "outputs": [
    {
     "name": "stdout",
     "output_type": "stream",
     "text": [
      "Resultado: False\n",
      "Tiempo de ejecución (10000 ejecuciones): 0.022715799997968134 segundos\n"
     ]
    }
   ],
   "source": [
    "execution_time = timeit.timeit(lambda: solution(\"race a car\"), number=10000)\n",
    "print(\"Resultado:\", solution(\"race a car\"))\n",
    "print(\"Tiempo de ejecución (10000 ejecuciones):\", execution_time, \"segundos\")"
   ]
  },
  {
   "cell_type": "code",
   "execution_count": 14,
   "id": "0b81b95b",
   "metadata": {},
   "outputs": [
    {
     "name": "stdout",
     "output_type": "stream",
     "text": [
      "Resultado: False\n",
      "Tiempo de ejecución (10000 ejecuciones): 0.01774160000059055 segundos\n"
     ]
    }
   ],
   "source": [
    "execution_time = timeit.timeit(lambda: solution_pythonic(\"race a car\"), number=10000)\n",
    "print(\"Resultado:\", solution_pythonic(\"race a car\"))\n",
    "print(\"Tiempo de ejecución (10000 ejecuciones):\", execution_time, \"segundos\")"
   ]
  },
  {
   "cell_type": "code",
   "execution_count": 15,
   "id": "0f722371",
   "metadata": {},
   "outputs": [
    {
     "name": "stdout",
     "output_type": "stream",
     "text": [
      "Resultado: False\n",
      "Tiempo de ejecución (10000 ejecuciones): 0.015904599997156765 segundos\n"
     ]
    }
   ],
   "source": [
    "execution_time = timeit.timeit(lambda: solution_pythonic_2(\"race a car\"), number=10000)\n",
    "print(\"Resultado:\", solution_pythonic_2(\"race a car\"))\n",
    "print(\"Tiempo de ejecución (10000 ejecuciones):\", execution_time, \"segundos\")"
   ]
  },
  {
   "cell_type": "code",
   "execution_count": 16,
   "id": "02cd47b6",
   "metadata": {},
   "outputs": [
    {
     "name": "stdout",
     "output_type": "stream",
     "text": [
      "Resultado: False\n",
      "Tiempo de ejecución (10000 ejecuciones): 0.019584900001063943 segundos\n"
     ]
    }
   ],
   "source": [
    "execution_time = timeit.timeit(lambda: solution(\"race a car\"), number=10000)\n",
    "print(\"Resultado:\", solution(\"race a car\"))\n",
    "print(\"Tiempo de ejecución (10000 ejecuciones):\", execution_time, \"segundos\")"
   ]
  },
  {
   "cell_type": "code",
   "execution_count": 17,
   "id": "ab174bed",
   "metadata": {},
   "outputs": [
    {
     "name": "stdout",
     "output_type": "stream",
     "text": [
      "Resultado: False\n",
      "Tiempo de ejecución (10000 ejecuciones): 0.01661749999766471 segundos\n"
     ]
    }
   ],
   "source": [
    "execution_time = timeit.timeit(lambda: solution_pythonic(\"race a car\"), number=10000)\n",
    "print(\"Resultado:\", solution_pythonic(\"race a car\"))\n",
    "print(\"Tiempo de ejecución (10000 ejecuciones):\", execution_time, \"segundos\")"
   ]
  },
  {
   "cell_type": "code",
   "execution_count": 18,
   "id": "45609868",
   "metadata": {},
   "outputs": [
    {
     "name": "stdout",
     "output_type": "stream",
     "text": [
      "Resultado: False\n",
      "Tiempo de ejecución (10000 ejecuciones): 0.014655900005891453 segundos\n"
     ]
    }
   ],
   "source": [
    "execution_time = timeit.timeit(lambda: solution_pythonic_2(\"race a car\"), number=10000)\n",
    "print(\"Resultado:\", solution_pythonic_2(\"race a car\"))\n",
    "print(\"Tiempo de ejecución (10000 ejecuciones):\", execution_time, \"segundos\")"
   ]
  }
 ],
 "metadata": {
  "kernelspec": {
   "display_name": "Python 3",
   "language": "python",
   "name": "python3"
  },
  "language_info": {
   "codemirror_mode": {
    "name": "ipython",
    "version": 3
   },
   "file_extension": ".py",
   "mimetype": "text/x-python",
   "name": "python",
   "nbconvert_exporter": "python",
   "pygments_lexer": "ipython3",
   "version": "3.12.3"
  }
 },
 "nbformat": 4,
 "nbformat_minor": 5
}
